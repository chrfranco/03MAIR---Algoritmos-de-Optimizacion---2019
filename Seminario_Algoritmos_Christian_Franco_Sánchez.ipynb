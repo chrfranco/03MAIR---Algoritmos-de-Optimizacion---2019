{
  "nbformat": 4,
  "nbformat_minor": 0,
  "metadata": {
    "colab": {
      "name": "Seminario - Algoritmos - Christian Franco Sánchez.ipynb",
      "provenance": [],
      "collapsed_sections": [],
      "include_colab_link": true
    },
    "kernelspec": {
      "name": "python3",
      "display_name": "Python 3"
    }
  },
  "cells": [
    {
      "cell_type": "markdown",
      "metadata": {
        "id": "view-in-github",
        "colab_type": "text"
      },
      "source": [
        "<a href=\"https://colab.research.google.com/github/chrfranco/03MAIR---Algoritmos-de-Optimizacion---2019/blob/master/Seminario_Algoritmos_Christian_Franco_S%C3%A1nchez.ipynb\" target=\"_parent\"><img src=\"https://colab.research.google.com/assets/colab-badge.svg\" alt=\"Open In Colab\"/></a>"
      ]
    },
    {
      "cell_type": "markdown",
      "metadata": {
        "id": "hVbXYX-RfPWh",
        "colab_type": "text"
      },
      "source": [
        "# **Algoritmos de optimización - Seminario**<br>\n",
        "## **Christian Franco Sánchez**   <br>\n",
        "https://github.com/chrfranco/03MAIR---Algoritmos-de-Optimizacion---2019\n",
        "\n",
        "https://colab.research.google.com/drive/1c7FfoLshyjnydL_Q9RUDfbH_meumSU0F#scrollTo=9eUd3xwckP68<br>\n",
        "\n",
        "Problema:\n",
        "\n",
        "3. Combinar cifras y operaciones\n",
        "\n",
        "Descripción del problema:\n",
        "\n",
        "El problema consiste en analizar el siguiente problema y diseñar un algoritmo que lo resuelva. Disponemos de las 9 cifras del 1 al 9 (excluimos el cero) y de los 4 signos básicos de las operaciones fundamentales: suma(+), resta(-), multiplicación(*) y división(/)\n",
        "\n",
        "Debemos combinarlos alternativamente sin repetir ninguno de ellos para obtener una cantidad dada. Un ejemplo sería para obtener el 4: 4+2-6/3*1 = 4\n",
        "\n",
        "Debe analizarse el problema para encontrar todos los valores enteros posibles planteando las siguientes cuestiones:\n",
        "\n",
        "    ¿Qué valor máximo y mínimo se pueden obtener según las condiciones del problema?\n",
        "    ¿Es posible encontrar todos los valores enteros posibles entre dicho mínimo y máximo ?\n",
        "\n",
        "\n",
        "(*) La respuesta es obligatoria\n",
        "\n",
        "\n",
        "\n",
        "\n",
        "\n",
        "                                        "
      ]
    },
    {
      "cell_type": "code",
      "metadata": {
        "id": "AiskKkzZfy4e",
        "colab_type": "code",
        "colab": {}
      },
      "source": [
        ""
      ],
      "execution_count": 0,
      "outputs": []
    },
    {
      "cell_type": "markdown",
      "metadata": {
        "id": "3_-exlrTgLd-",
        "colab_type": "text"
      },
      "source": [
        "(*)¿Cuantas posibilidades hay sin tener en cuenta las restricciones?<br>\n",
        "\n",
        "\n",
        "\n",
        "¿Cuantas posibilidades hay teniendo en cuenta todas las restricciones.\n",
        "\n",
        "\n"
      ]
    },
    {
      "cell_type": "markdown",
      "metadata": {
        "id": "WfCUqJyKhPcw",
        "colab_type": "text"
      },
      "source": [
        "\n",
        "\n",
        "***Respuesta:***\n",
        "\n",
        "Si **No se toman en cuenta las restricciones**, es difícil saber cuantas combinaciones posibles existen del problema, pero se podría aventurar una respuesta, considerando que al existir 9 dígitos posibles y 4 operaciones, se podrían combinar para formar una combinatoria de posibilidades equivalente a 9!x4! = 8.709.120, es decir, más de ocho millones de combinaciones diferentes de solución del problema, sin considerar restricciones.\n",
        "\n",
        "**Tomando en cuenta las restricciones** del problema, a través del algoritmo resuelto y expuesto en el presente informe, se obtiene que para este problema, y teniendo en cuenta las restricciones, existen 1.140 combinaciones posibles de solución, los cuales se encuentran entre los valores enteros -67 y 16, incluyendo a ambos valores, y al cero.\n"
      ]
    },
    {
      "cell_type": "code",
      "metadata": {
        "id": "iq6Fe32MgpDX",
        "colab_type": "code",
        "colab": {}
      },
      "source": [
        ""
      ],
      "execution_count": 0,
      "outputs": []
    },
    {
      "cell_type": "markdown",
      "metadata": {
        "id": "dzynfVJahHoY",
        "colab_type": "text"
      },
      "source": [
        "Modelo para el espacio de soluciones<br>\n",
        "(*) ¿Cual es la estructura de datos que mejor se adapta al problema? Argumentalo.(Es posible que hayas elegido una al principio y veas la necesidad de cambiar, arguentalo)\n"
      ]
    },
    {
      "cell_type": "markdown",
      "metadata": {
        "id": "xFIJrOwKi2Ti",
        "colab_type": "text"
      },
      "source": [
        "\n",
        "\n",
        "***Respuesta:***\n",
        "\n",
        "Para resolver el algoritmo que entrega solución óptima al problema, se recurre a dos técnicas: \"Divide y Vencerás\", y \"Ramificación y Poda\". La técnica de ***'Divide y Vencerás'***, se utiliza ya que resolver el problema completamente por fuerza bruta, resulta en un algoritmo de una enorme complejidad, por lo tanto, se subdivide el problema en dos: (1) Se juntan los 2 valores enteros que se suman entre ellos; y (2) Se juntan los 3 valores enteros que utilizan las operaciones de multiplicación y división entre ellos. Posteriormente, y una vez que de manera separada se hayan obtenido todas las combinaciones posibles, se vuelven a juntar las 2 partes en que se subdividió el problema, para restar ambas partes (la operación que faltaba en la restricción), y así a través de bucles contrastar si el resultado de la operación completa, es igual al número inicial ingresado.\n",
        "\n",
        "Sin embargo, durante la ejecución del algoritmo, se encuentra la traba que al subdividir el problema, la parte que contiene la multiplicación y división, entrega demasiados resultados (por no decir la mayoría) con valores decimales, y el algoritmo se transforma en una operación de alta complejidad y mucho tiempo de resolución, por lo cual, se buscó agilizar el código, para lo cual se aplicó la técnica de ***'Ramificación y Poda'***, que sirve para eliminar todas las operaciones que no entregan valores enteros al ejecutar la división. Así se logra encontrar todas las combinaciones utilizando los 9 valores de la restricción, que entregan solución entera a esta parte de la subdivisión realizado en el problema.\n"
      ]
    },
    {
      "cell_type": "code",
      "metadata": {
        "id": "38c-7-ejhJmA",
        "colab_type": "code",
        "colab": {}
      },
      "source": [
        ""
      ],
      "execution_count": 0,
      "outputs": []
    },
    {
      "cell_type": "markdown",
      "metadata": {
        "id": "7Z9U2W7bi-XS",
        "colab_type": "text"
      },
      "source": [
        "Según el modelo para el espacio de soluciones<br>\n",
        "(*)¿Cual es la función objetivo?\n",
        "\n",
        "(*)¿Es un problema de maximización o minimización?"
      ]
    },
    {
      "cell_type": "markdown",
      "metadata": {
        "id": "hBalWLM7j1_d",
        "colab_type": "text"
      },
      "source": [
        "\n",
        "\n",
        "***Respuesta:***\n",
        "\n",
        "El objetivo del problema, es el de ejecutar un algoritmo que encuentre combinaciones de 5 números enteros entre 1 y 9, que sin estar repetidos y aplicando las 4 operaciones, entregue como resultado un valor igual a un número inicial digitado. Lo anterior, no es una función objetivo, y por lo tanto, no es un problema de maximización y tampoco de minimización, ya que no hay que optimizar ninguna función.\n"
      ]
    },
    {
      "cell_type": "code",
      "metadata": {
        "id": "pDA-rg3Gj5Lz",
        "colab_type": "code",
        "colab": {}
      },
      "source": [
        ""
      ],
      "execution_count": 0,
      "outputs": []
    },
    {
      "cell_type": "markdown",
      "metadata": {
        "id": "rlnTYgY1j6I2",
        "colab_type": "text"
      },
      "source": [
        "Diseña un algoritmo para resolver el problema por fuerza bruta"
      ]
    },
    {
      "cell_type": "markdown",
      "metadata": {
        "id": "70rDgxYXkC8r",
        "colab_type": "text"
      },
      "source": [
        "Respuesta"
      ]
    },
    {
      "cell_type": "code",
      "metadata": {
        "id": "CJb5sQ0qkENy",
        "colab_type": "code",
        "colab": {}
      },
      "source": [
        "# El siguiente algoritmo, encuentra de manera aleatoria, una combinación por cada número (dentro del rango de valores)\n",
        "#   que al realizar la operación, el resultado es igual a un número inicial ingresado.\n",
        "# Este algoritmo, solamente encuentra 1 combinación por cada número, ya que el algoritmo por fuerza bruta generado para encontrar\n",
        "#   todas las combinaciones por cada número ingresado, fue imposible hacerlo terminar con los resultados.\n",
        "\n",
        "# Nota: La operación considera que: Al primer valor, se le suma el segundo, luego se resta el tercero que va multiplicado por\n",
        "#   el cuarto valor y dividio por el quinto valor, es decir, A+B-C*D/E.\n",
        "\n",
        "#Se importa la librería Random para obtener cifras aleatorias\n",
        "import random\n",
        "\n",
        "operacion = 1000             # Se agrega un valor inicial a la operación, para hacer correr el bucle 'while'\n",
        "\n",
        "for y in range(0, 100):      # Se hace bucle con valores a encontrar las combinaciones\n",
        "    numero_inicial = y-67\n",
        "\n",
        "    while operacion != numero_inicial:        # Bucle que encuentra la igualdad entre la operación y el número inicial\n",
        "        lista = [1, 2, 3, 4, 5, 6, 7, 8, 9]\n",
        "        random.shuffle(lista,random.random)\n",
        "        operacion = lista[0]+lista[1]-lista[2]*lista[3]/lista[4]\n",
        "    \n",
        "    print(\"Para el Número Inicial\", numero_inicial, \"esta Combinación de Números iguala la Operación:\", lista[0:5])"
      ],
      "execution_count": 0,
      "outputs": []
    },
    {
      "cell_type": "markdown",
      "metadata": {
        "id": "tgrnsC2nkFa8",
        "colab_type": "text"
      },
      "source": [
        "Calcula la complejidad del algoritmo por fuerza bruta"
      ]
    },
    {
      "cell_type": "markdown",
      "metadata": {
        "id": "9eUd3xwckP68",
        "colab_type": "text"
      },
      "source": [
        "***Respuesta:***\n",
        "\n",
        "Se tiene que existe un bucle anidado, con 3 operaciones en su interior, y una operación antes del bucle anidado, por lo cual la función de operación del algoritmo, corresponde a 1+3n^2, o sea, la **Complejidad = O(n^2)**, es decir, n cuadrático."
      ]
    },
    {
      "cell_type": "code",
      "metadata": {
        "id": "rvZWwL-ckRST",
        "colab_type": "code",
        "colab": {}
      },
      "source": [
        ""
      ],
      "execution_count": 0,
      "outputs": []
    },
    {
      "cell_type": "markdown",
      "metadata": {
        "id": "txbrmLmskReM",
        "colab_type": "text"
      },
      "source": [
        "(*)Diseña un algoritmo que mejore la complejidad del algortimo por fuerza bruta. Argumenta porque crees que mejora el algoritmo por fuerza bruta"
      ]
    },
    {
      "cell_type": "markdown",
      "metadata": {
        "id": "hLrVwt5QkZPD",
        "colab_type": "text"
      },
      "source": [
        "Respuesta"
      ]
    },
    {
      "cell_type": "code",
      "metadata": {
        "id": "m1eyM21Vkabg",
        "colab_type": "code",
        "colab": {}
      },
      "source": [
        "# Se genera un algoritmo, el cual resuelve encontrar las combinaciones de 5 números entre 1 y 9, que sin repetirse, logran que\n",
        "#   se encuentren los resultados de la operación A+B-C*D/E, que sea igual a un número inicial ingresado.\n",
        "\n",
        "# El algoritmo, se subdivide en 2 partes: Primero se analiza el tramo de la operación C*D/E, en la cual con la técnica de\n",
        "#   Ramificación y Poda, se eliminan todas las combinaciones que no logran un resultado con valor entero. Posteriormente, se\n",
        "#   resuelve la parte de la operación A+B, buscando combinaciones de números con valores que no se encuentren utilizados en la\n",
        "#   primera obtención de combinaciones con valores enteros. Finalmente estas 2 partes, se juntan, restando para obtener la\n",
        "#   operación A+B-C*D/E. Este resultado para cada una de las combinaciones, se contrasta con el valor inicial ingresado, y se imprimen\n",
        "#   los valores que son iguales.\n",
        "\n",
        "# Se agrega un bucle al comienzo del algoritmo, para no ingresar los números iniciales individualmente, y el bucle se encarga de\n",
        "#   analizar automáticamente un rango de valores, que para el caso de este algoritmo, es de 300 números (desde -150 hasta 150).\n",
        "\n",
        "\n",
        "combinaciones_finales = 0\n",
        "\n",
        "for y in range(0, 300):                      # Bucle para ingreso de números iniciales automáticamente\n",
        "    numero_inicial = y-150\n",
        "\n",
        "    def sumandos():                          # Función para encontrar pares de combinaciones de parte A+B\n",
        "    \n",
        "        lista_suma1 = []\n",
        "        for u in range(0, 6):\n",
        "            for t in range(u+1, 6):\n",
        "                lista_suma1.append(lista_suma[z][u])\n",
        "                lista_suma1.append(lista_suma[z][t])\n",
        "            \n",
        "        lista_suma2.append(lista_suma1)       \n",
        "        #print(lista_suma2)\n",
        "\n",
        "    lista_inicial = [1,2,3,4,5,6,7,8,9]\n",
        "    lista_multi = []\n",
        "\n",
        "    for i in range(1, 10):                   # Bucle anidado que consigue todas las combinaciones posible para la multiplicación C*D\n",
        "        for j in range(i+1, 10):\n",
        "            lista_multi.append([i, j])\n",
        "\n",
        "    #print(lista_multi)\n",
        "\n",
        "    lista_divide = []\n",
        "\n",
        "    for k in range(0, len(lista_multi)):     # Bucle anidado que encuentra todas las combinaciones con resultado entero de C*D/E\n",
        "        for m in range(0, 9):\n",
        "            if ((lista_multi[k][0]*lista_multi[k][1])%(lista_inicial[m])==0 and lista_multi[k][0]!=lista_inicial[m]\n",
        "                    and lista_multi[k][1]!=lista_inicial[m]):\n",
        "                lista_divide.append([lista_multi[k][0], lista_multi[k][1], lista_inicial[m]])    \n",
        "\n",
        "                              # Hasta aquí ya se han encontrado todas las combinaciones de la 2da parte del problema, que para este\n",
        "                              #   algoritmo, encontró 76 combinaciones de números que resuelven con valor entero la parte C*D/E\n",
        "    #print(lista_divide)\n",
        "    #print(len(lista_divide))\n",
        "\n",
        "    lista_suma = []\n",
        "    lista_saldo = []\n",
        "\n",
        "                              # A continuación, este bucle anidado consigue encontrar todos los números entre 1 y 9, que no se encuentran\n",
        "                              #   en cada combinación resuelta para C*D/E, para de esta manera tener los valores para crear las combinaciones\n",
        "                              #   que se pueden resolver para obtener la parte A+B de la operación.\n",
        "    for p in range(0, len(lista_divide)):\n",
        "        for q in range(0, 9):\n",
        "            if (lista_inicial[q] not in lista_divide[p]):\n",
        "                lista_saldo.append(lista_inicial[q])\n",
        "            \n",
        "        lista_suma.append(lista_saldo)\n",
        "        lista_saldo = []\n",
        "    \n",
        "    #print(lista_suma)\n",
        "    #print(len(lista_suma))\n",
        "\n",
        "    lista_suma2 = []\n",
        "\n",
        "    for z in range(0, len(lista_suma)):         # Función para encontrar diferentes pares de números que logran A+B de la operación\n",
        "        sumandos()\n",
        "    \n",
        "    #print(lista_suma2)\n",
        "\n",
        "    lista_def = []\n",
        "    lista_final = []\n",
        "\n",
        "    for s in range(0, len(lista_suma)):         # Este bucle anidado, encuentra todas las combinaciones por cada número inicial, que igualan a la operación A+B-C*D/E\n",
        "        for t in range(0, 15):\n",
        "            if (lista_suma2[s][2*t]+lista_suma2[s][2*t+1]-(lista_divide[s][0]*lista_divide[s][1]/lista_divide[s][2]) == numero_inicial):\n",
        "                lista_def.append(lista_suma2[s][2*t])\n",
        "                lista_def.append(lista_suma2[s][2*t+1])\n",
        "                lista_def.append(lista_divide[s][0])\n",
        "                lista_def.append(lista_divide[s][1])\n",
        "                lista_def.append(lista_divide[s][2])\n",
        "                lista_final.append(lista_def)\n",
        "                lista_def = []\n",
        "    \n",
        "    if len(lista_final) != 0:\n",
        "        valor_combinacion = int(len(lista_final))\n",
        "        combinaciones_finales+=valor_combinacion\n",
        "        print(\"La Cantidad de Combinaciones para el Número\", numero_inicial, \"es:\", len(lista_final))\n",
        "        print(\"La Lista de Combinaciones Posibles es la Siguiente:\")\n",
        "        print(lista_final)\n",
        "        print(\"\")\n",
        "        \n",
        "print(\"La Cantidad Total de Combinaciones es:\", combinaciones_finales)\n",
        "        \n",
        "        #print(lista_final)\n",
        "        #print(len(lista_final))\n",
        "\n",
        "    #for v in range(0, len(lista_final)):\n",
        "        #resultado = lista_final[v][0]+lista_final[v][1]-lista_final[v][2]*lista_final[v][3]/lista_final[v][4]\n",
        "        #print(resultado)"
      ],
      "execution_count": 0,
      "outputs": []
    },
    {
      "cell_type": "markdown",
      "metadata": {
        "id": "eGDB4K6uk1iN",
        "colab_type": "text"
      },
      "source": [
        "(*)Calcula la complejidad del algoritmo "
      ]
    },
    {
      "cell_type": "markdown",
      "metadata": {
        "id": "NhpTh_BPk1ms",
        "colab_type": "text"
      },
      "source": [
        "Respuesta"
      ]
    },
    {
      "cell_type": "code",
      "metadata": {
        "id": "nREzhkStlCq8",
        "colab_type": "code",
        "colab": {}
      },
      "source": [
        ""
      ],
      "execution_count": 0,
      "outputs": []
    },
    {
      "cell_type": "markdown",
      "metadata": {
        "id": "3M6QjTsSkmYe",
        "colab_type": "text"
      },
      "source": [
        "Según el problema (y tenga sentido), diseña un juego de datos de entrada aleatorios"
      ]
    },
    {
      "cell_type": "markdown",
      "metadata": {
        "id": "Jc3_OlyNkvjZ",
        "colab_type": "text"
      },
      "source": [
        "Respuesta"
      ]
    },
    {
      "cell_type": "code",
      "metadata": {
        "id": "sJ-N2etjkyWc",
        "colab_type": "code",
        "colab": {}
      },
      "source": [
        ""
      ],
      "execution_count": 0,
      "outputs": []
    },
    {
      "cell_type": "markdown",
      "metadata": {
        "id": "zy5ZROmjlGo1",
        "colab_type": "text"
      },
      "source": [
        "Aplica el algoritmo al juego de datos generado"
      ]
    },
    {
      "cell_type": "markdown",
      "metadata": {
        "id": "_Cmj-PVylMsa",
        "colab_type": "text"
      },
      "source": [
        "Respuesta"
      ]
    },
    {
      "cell_type": "code",
      "metadata": {
        "id": "Jkx8GeiYlUz1",
        "colab_type": "code",
        "colab": {}
      },
      "source": [
        ""
      ],
      "execution_count": 0,
      "outputs": []
    },
    {
      "cell_type": "markdown",
      "metadata": {
        "colab_type": "text",
        "id": "eTFWUJQrtGcv"
      },
      "source": [
        "Enumera las referencias que has utilizado(si ha sido necesario) para llevar a cabo el trabajo"
      ]
    },
    {
      "cell_type": "markdown",
      "metadata": {
        "id": "YKQ_mRBttWsP",
        "colab_type": "text"
      },
      "source": [
        "Respuesta"
      ]
    },
    {
      "cell_type": "markdown",
      "metadata": {
        "id": "kAkDPUyRtYyH",
        "colab_type": "text"
      },
      "source": [
        "Describe brevemente las lineas de como crees que es posible avanzar en el estudio del problema. Ten en cuenta incluso posibles variaciones del problema y/o variaciones al alza del tamaño"
      ]
    },
    {
      "cell_type": "markdown",
      "metadata": {
        "id": "IE0uZmo-tZu-",
        "colab_type": "text"
      },
      "source": [
        "Respuesta"
      ]
    }
  ]
}