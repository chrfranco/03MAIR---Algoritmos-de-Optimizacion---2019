{
  "nbformat": 4,
  "nbformat_minor": 0,
  "metadata": {
    "colab": {
      "name": "Christian Franco - AG3.ipynb",
      "provenance": [],
      "collapsed_sections": [],
      "include_colab_link": true
    },
    "kernelspec": {
      "name": "python3",
      "display_name": "Python 3"
    }
  },
  "cells": [
    {
      "cell_type": "markdown",
      "metadata": {
        "id": "view-in-github",
        "colab_type": "text"
      },
      "source": [
        "<a href=\"https://colab.research.google.com/github/chrfranco/03MAIR---Algoritmos-de-Optimizacion---2019/blob/master/Christian%20Franco%20-%20AG3.ipynb\" target=\"_parent\"><img src=\"https://colab.research.google.com/assets/colab-badge.svg\" alt=\"Open In Colab\"/></a>"
      ]
    },
    {
      "cell_type": "markdown",
      "metadata": {
        "id": "RoxbiLZi66TQ",
        "colab_type": "text"
      },
      "source": [
        "**Actividad Guiada 3 - AG3**\n",
        "\n",
        "**Christian Franco Sánchez**\n",
        "\n",
        "https://colab.research.google.com/drive/1rWV3izG40O2byxTBLbOduymD8ZR98c8G\n",
        "\n",
        "https://github.com/chrfranco/03MAIR---Algoritmos-de-Optimizacion---2019"
      ]
    },
    {
      "cell_type": "code",
      "metadata": {
        "id": "F37w3zLG64pk",
        "colab_type": "code",
        "colab": {
          "base_uri": "https://localhost:8080/",
          "height": 568
        },
        "outputId": "469c0567-5117-4f9e-b5e8-ae3807ffee07"
      },
      "source": [
        "!pip install request"
      ],
      "execution_count": 1,
      "outputs": [
        {
          "output_type": "stream",
          "text": [
            "Collecting request\n",
            "  Downloading https://files.pythonhosted.org/packages/f1/27/7cbde262d854aedf217061a97020d66a63163c5c04e0ec02ff98c5d8f44e/request-2019.4.13.tar.gz\n",
            "Collecting get (from request)\n",
            "  Downloading https://files.pythonhosted.org/packages/3f/ef/bb46f77f7220ac1b7edba0c76d810c89fddb24ddd8c08f337b9b4a618db7/get-2019.4.13.tar.gz\n",
            "Collecting post (from request)\n",
            "  Downloading https://files.pythonhosted.org/packages/0f/05/bd79da5849ea6a92485ed7029ef97b1b75e55c26bc0ed3a7ec769af666f3/post-2019.4.13.tar.gz\n",
            "Requirement already satisfied: setuptools in /usr/local/lib/python3.6/dist-packages (from request) (41.2.0)\n",
            "Collecting query_string (from get->request)\n",
            "  Downloading https://files.pythonhosted.org/packages/12/3c/412a45daf5bea9b1d06d7de41787ec4168001dfa418db7ec8723356b119f/query-string-2019.4.13.tar.gz\n",
            "Collecting public (from query_string->get->request)\n",
            "  Downloading https://files.pythonhosted.org/packages/54/4d/b40004cc6c07665e48af22cfe1e631f219bf4282e15fa76a5b6364f6885c/public-2019.4.13.tar.gz\n",
            "Building wheels for collected packages: request, get, post, query-string, public\n",
            "  Building wheel for request (setup.py) ... \u001b[?25l\u001b[?25hdone\n",
            "  Created wheel for request: filename=request-2019.4.13-cp36-none-any.whl size=1676 sha256=33f68acc51c8033732b08be5292dc02a66d6f1e46bde9b5aad4554a465fd9dd6\n",
            "  Stored in directory: /root/.cache/pip/wheels/30/84/5f/484cfba678967ef58c16fce6890925d5c7172622f20111fbfd\n",
            "  Building wheel for get (setup.py) ... \u001b[?25l\u001b[?25hdone\n",
            "  Created wheel for get: filename=get-2019.4.13-cp36-none-any.whl size=1692 sha256=8123d1ec1c76d089d264952ee41ffeac8cc6144e442dea5b8d9ccecba12a87ea\n",
            "  Stored in directory: /root/.cache/pip/wheels/c1/e3/c1/d02c8c58538853e4c9b78cadb74f6d5c5c370b48a69a7271aa\n",
            "  Building wheel for post (setup.py) ... \u001b[?25l\u001b[?25hdone\n",
            "  Created wheel for post: filename=post-2019.4.13-cp36-none-any.whl size=1661 sha256=73e00ffea4c99e4775c15c5eaa87775148cc145a0069e1e30e7c494dabb7753f\n",
            "  Stored in directory: /root/.cache/pip/wheels/c3/c3/24/b5c132b537ab380c02d69e6bd4dec1f5db56b5fe19030473d7\n",
            "  Building wheel for query-string (setup.py) ... \u001b[?25l\u001b[?25hdone\n",
            "  Created wheel for query-string: filename=query_string-2019.4.13-cp36-none-any.whl size=2049 sha256=f3692ce7bc1cb0c222188a0753ed77f17f50f1f943831aacf1b343aac1387231\n",
            "  Stored in directory: /root/.cache/pip/wheels/d6/a4/78/01b20a9dc224dcc009fab669f7f27b943b8889c5150bd68d8a\n",
            "  Building wheel for public (setup.py) ... \u001b[?25l\u001b[?25hdone\n",
            "  Created wheel for public: filename=public-2019.4.13-cp36-none-any.whl size=2536 sha256=164cfa5008795c2f6d08b0593e8caa7ce41c034cc6a884816bf837d0b8164123\n",
            "  Stored in directory: /root/.cache/pip/wheels/23/7c/6e/f5b4e09d6596c8b8802b347e48f149031e2363368048f1347a\n",
            "Successfully built request get post query-string public\n",
            "Installing collected packages: public, query-string, get, post, request\n",
            "Successfully installed get-2019.4.13 post-2019.4.13 public-2019.4.13 query-string-2019.4.13 request-2019.4.13\n"
          ],
          "name": "stdout"
        }
      ]
    },
    {
      "cell_type": "code",
      "metadata": {
        "id": "ZZ9oonX9DTCC",
        "colab_type": "code",
        "colab": {
          "base_uri": "https://localhost:8080/",
          "height": 348
        },
        "outputId": "dc20eb47-8ce0-48ab-fe2f-5d8eca5035ac"
      },
      "source": [
        "!pip install tsplib95"
      ],
      "execution_count": 4,
      "outputs": [
        {
          "output_type": "stream",
          "text": [
            "Collecting tsplib95\n",
            "  Downloading https://files.pythonhosted.org/packages/90/9f/5fbf6118d00719cc4688b175a04da09b89c3780db6b0c55bc646a20a6a07/tsplib95-0.3.3-py2.py3-none-any.whl\n",
            "Requirement already satisfied: Click>=6.0 in /usr/local/lib/python3.6/dist-packages (from tsplib95) (7.0)\n",
            "Collecting networkx==2.1 (from tsplib95)\n",
            "\u001b[?25l  Downloading https://files.pythonhosted.org/packages/11/42/f951cc6838a4dff6ce57211c4d7f8444809ccbe2134179950301e5c4c83c/networkx-2.1.zip (1.6MB)\n",
            "\u001b[K     |████████████████████████████████| 1.6MB 5.6MB/s \n",
            "\u001b[?25hRequirement already satisfied: decorator>=4.1.0 in /usr/local/lib/python3.6/dist-packages (from networkx==2.1->tsplib95) (4.4.0)\n",
            "Building wheels for collected packages: networkx\n",
            "  Building wheel for networkx (setup.py) ... \u001b[?25l\u001b[?25hdone\n",
            "  Created wheel for networkx: filename=networkx-2.1-py2.py3-none-any.whl size=1447766 sha256=0474068b1ee268d0635f0c336768a80c6c84c6776c38ce0fdb33bed7fc95cb36\n",
            "  Stored in directory: /root/.cache/pip/wheels/44/c0/34/6f98693a554301bdb405f8d65d95bbcd3e50180cbfdd98a94e\n",
            "Successfully built networkx\n",
            "\u001b[31mERROR: albumentations 0.1.12 has requirement imgaug<0.2.7,>=0.2.5, but you'll have imgaug 0.2.9 which is incompatible.\u001b[0m\n",
            "Installing collected packages: networkx, tsplib95\n",
            "  Found existing installation: networkx 2.3\n",
            "    Uninstalling networkx-2.3:\n",
            "      Successfully uninstalled networkx-2.3\n",
            "Successfully installed networkx-2.1 tsplib95-0.3.3\n"
          ],
          "name": "stdout"
        }
      ]
    },
    {
      "cell_type": "code",
      "metadata": {
        "id": "QB5ygzvGB2Ij",
        "colab_type": "code",
        "colab": {
          "base_uri": "https://localhost:8080/",
          "height": 35
        },
        "outputId": "7e5f7fa0-8ec5-4f77-e0b9-bbf02e944c06"
      },
      "source": [
        "import urllib.request\n",
        "import tsplib95\n",
        "import random\n",
        "from math import e\n",
        "file = 'swiss42.tsp'\n",
        "\n",
        "urllib.request.urlretrieve('http://elib.zib.de/pub/mp-testdata/tsp/tsplib/tsp/swiss42.tsp', file)\n"
      ],
      "execution_count": 9,
      "outputs": [
        {
          "output_type": "execute_result",
          "data": {
            "text/plain": [
              "('swiss42.tsp', <http.client.HTTPMessage at 0x7f75ba2bdb00>)"
            ]
          },
          "metadata": {
            "tags": []
          },
          "execution_count": 9
        }
      ]
    },
    {
      "cell_type": "code",
      "metadata": {
        "id": "DYnqQ_zaDCxq",
        "colab_type": "code",
        "colab": {
          "base_uri": "https://localhost:8080/",
          "height": 35
        },
        "outputId": "e2f1392e-3c7b-47a8-d831-cd7b048dcf80"
      },
      "source": [
        "!ls"
      ],
      "execution_count": 6,
      "outputs": [
        {
          "output_type": "stream",
          "text": [
            "sample_data  swiss42.tsp\n"
          ],
          "name": "stdout"
        }
      ]
    },
    {
      "cell_type": "code",
      "metadata": {
        "id": "Fmx4wg4rj2Hs",
        "colab_type": "code",
        "colab": {
          "base_uri": "https://localhost:8080/",
          "height": 35
        },
        "outputId": "19c34dd1-0ef0-4262-9a1c-83f51b3f850c"
      },
      "source": [
        "problem = tsplib95.load_problem(file)\n",
        "\n",
        "nodos = list(problem.get_nodes())\n",
        "\n",
        "list(problem.get_nodes())\n",
        "list(problem.get_edges())\n",
        "\n",
        "problem.wfunc(0,3)"
      ],
      "execution_count": 23,
      "outputs": [
        {
          "output_type": "execute_result",
          "data": {
            "text/plain": [
              "23"
            ]
          },
          "metadata": {
            "tags": []
          },
          "execution_count": 23
        }
      ]
    },
    {
      "cell_type": "code",
      "metadata": {
        "id": "68LD7SMpl-jM",
        "colab_type": "code",
        "colab": {
          "base_uri": "https://localhost:8080/",
          "height": 35
        },
        "outputId": "25ecc8e7-88b9-49ee-edd4-6be74d79f372"
      },
      "source": [
        "def distancia(a, b, problem):\n",
        "  return problem.wfunc(a,b)\n",
        "\n",
        "def crear_solucion(nodos):\n",
        "  solucion = [0]\n",
        "  for i in range(len(nodos)-1):\n",
        "    solucion = solucion + [random.choice(list(set(nodos) - set({0}) - set(solucion)))]\n",
        "    \n",
        "  return solucion\n",
        "\n",
        "def distancia_total(solucion, problem):\n",
        "  distancia_ret = 0\n",
        "  for i in range(len(solucion)-1):\n",
        "    distancia_ret += distancia(solucion[i], solucion[i+1], problem)\n",
        "    \n",
        "  return distancia_ret + distancia(solucion[len(solucion)-1], solucion[0], problem)\n",
        "\n",
        "solucion_prueba = crear_solucion(nodos)\n",
        "\n",
        "print(distancia_total(solucion_prueba, problem), solucion_prueba)"
      ],
      "execution_count": 50,
      "outputs": [
        {
          "output_type": "stream",
          "text": [
            "4720 [0, 12, 9, 3, 32, 7, 2, 5, 21, 38, 25, 26, 23, 11, 17, 35, 1, 15, 33, 16, 39, 18, 10, 34, 30, 36, 20, 40, 22, 13, 19, 31, 41, 27, 14, 6, 24, 29, 4, 37, 28, 8]\n"
          ],
          "name": "stdout"
        }
      ]
    },
    {
      "cell_type": "code",
      "metadata": {
        "id": "1zxP2hJkx95z",
        "colab_type": "code",
        "colab": {}
      },
      "source": [
        "# Búsqueda Aleatoria"
      ],
      "execution_count": 0,
      "outputs": []
    },
    {
      "cell_type": "code",
      "metadata": {
        "id": "Bt6cz_iusxSq",
        "colab_type": "code",
        "colab": {
          "base_uri": "https://localhost:8080/",
          "height": 807
        },
        "outputId": "95743ec0-b039-44bb-94da-a2ca332f98ce"
      },
      "source": [
        "def busqueda_aleatoria(problem, N):\n",
        "  nodos = list(problem.get_nodes())\n",
        "  \n",
        "  mejor_solucion = []\n",
        "  mejor_distancia = 10e10\n",
        "  \n",
        "  for i in range(N):\n",
        "    solucion = crear_solucion(nodos)\n",
        "    distancia_solucion = distancia_total(solucion, problem)\n",
        "    \n",
        "    if distancia_solucion < mejor_distancia:\n",
        "      mejor_solucion = solucion\n",
        "      mejor_distancia = distancia_solucion\n",
        "      \n",
        "  print(mejor_distancia, mejor_solucion)\n",
        "  return mejor_solucion\n",
        "\n",
        "busqueda_aleatoria(problem, 5000)"
      ],
      "execution_count": 52,
      "outputs": [
        {
          "output_type": "stream",
          "text": [
            "3746 [0, 38, 24, 40, 2, 17, 20, 31, 34, 30, 28, 18, 39, 22, 32, 19, 4, 8, 9, 25, 26, 27, 7, 35, 33, 14, 36, 37, 12, 6, 13, 1, 15, 5, 41, 3, 29, 11, 10, 16, 23, 21]\n"
          ],
          "name": "stdout"
        },
        {
          "output_type": "execute_result",
          "data": {
            "text/plain": [
              "[0,\n",
              " 38,\n",
              " 24,\n",
              " 40,\n",
              " 2,\n",
              " 17,\n",
              " 20,\n",
              " 31,\n",
              " 34,\n",
              " 30,\n",
              " 28,\n",
              " 18,\n",
              " 39,\n",
              " 22,\n",
              " 32,\n",
              " 19,\n",
              " 4,\n",
              " 8,\n",
              " 9,\n",
              " 25,\n",
              " 26,\n",
              " 27,\n",
              " 7,\n",
              " 35,\n",
              " 33,\n",
              " 14,\n",
              " 36,\n",
              " 37,\n",
              " 12,\n",
              " 6,\n",
              " 13,\n",
              " 1,\n",
              " 15,\n",
              " 5,\n",
              " 41,\n",
              " 3,\n",
              " 29,\n",
              " 11,\n",
              " 10,\n",
              " 16,\n",
              " 23,\n",
              " 21]"
            ]
          },
          "metadata": {
            "tags": []
          },
          "execution_count": 52
        }
      ]
    },
    {
      "cell_type": "code",
      "metadata": {
        "id": "1EDEW5kryFtR",
        "colab_type": "code",
        "colab": {}
      },
      "source": [
        "# Búsqueda Local"
      ],
      "execution_count": 0,
      "outputs": []
    },
    {
      "cell_type": "code",
      "metadata": {
        "id": "MvUyHXrsyH4K",
        "colab_type": "code",
        "colab": {
          "base_uri": "https://localhost:8080/",
          "height": 788
        },
        "outputId": "9a78386e-780a-4ac9-dfa7-faeaf05a412a"
      },
      "source": [
        "def genera_vecina(solucion, problem):\n",
        "  mejor_solucion = []\n",
        "  mejor_distancia = 10e10\n",
        "  \n",
        "  for i in range(1, len(solucion)-1):\n",
        "    for j in range(i+1, len(solucion)):\n",
        "      vecina = solucion[:i] + [solucion[j]] + solucion[i+1:j] + [solucion[i]] + solucion[j+1:]\n",
        "      distancia_vecina = distancia_total(vecina, problem)\n",
        "      if distancia_vecina < mejor_distancia:\n",
        "        mejor_solucion = vecina\n",
        "        mejor_distancia = distancia_vecina\n",
        "        \n",
        "  return mejor_solucion\n",
        "\n",
        "solucion_prueba = crear_solucion(nodos)\n",
        "genera_vecina(solucion_prueba, problem)\n",
        "    "
      ],
      "execution_count": 54,
      "outputs": [
        {
          "output_type": "execute_result",
          "data": {
            "text/plain": [
              "[0,\n",
              " 6,\n",
              " 7,\n",
              " 36,\n",
              " 13,\n",
              " 25,\n",
              " 39,\n",
              " 41,\n",
              " 5,\n",
              " 27,\n",
              " 20,\n",
              " 37,\n",
              " 14,\n",
              " 17,\n",
              " 23,\n",
              " 40,\n",
              " 24,\n",
              " 21,\n",
              " 30,\n",
              " 19,\n",
              " 35,\n",
              " 29,\n",
              " 33,\n",
              " 28,\n",
              " 32,\n",
              " 4,\n",
              " 26,\n",
              " 9,\n",
              " 2,\n",
              " 16,\n",
              " 8,\n",
              " 34,\n",
              " 1,\n",
              " 10,\n",
              " 18,\n",
              " 11,\n",
              " 22,\n",
              " 12,\n",
              " 15,\n",
              " 38,\n",
              " 31,\n",
              " 3]"
            ]
          },
          "metadata": {
            "tags": []
          },
          "execution_count": 54
        }
      ]
    },
    {
      "cell_type": "code",
      "metadata": {
        "id": "KePZyTql2RZX",
        "colab_type": "code",
        "colab": {
          "base_uri": "https://localhost:8080/",
          "height": 807
        },
        "outputId": "5a06babd-a01c-4f1a-e7bd-87fe56c89b73"
      },
      "source": [
        "def busqueda_local(problem, N):\n",
        "  mejor_solucion = []\n",
        "  mejor_distancia = 10e10\n",
        "  \n",
        "  nodos = list(problem.get_nodes())\n",
        "  \n",
        "  solucion_referencia = crear_solucion(nodos)\n",
        "  \n",
        "  for i in range(N):\n",
        "    vecina = genera_vecina(solucion_referencia, problem)\n",
        "    distancia_vecina = distancia_total(vecina, problem)\n",
        "    if distancia_vecina < mejor_distancia:\n",
        "      mejor_solucion = vecina\n",
        "      mejor_distancia = distancia_vecina\n",
        "      \n",
        "    solucion_referencia = mejor_solucion\n",
        "    \n",
        "  print(distancia_total(mejor_solucion, problem), mejor_solucion)\n",
        "    \n",
        "  return mejor_solucion\n",
        "\n",
        "busqueda_local(problem, 100)\n",
        "  "
      ],
      "execution_count": 55,
      "outputs": [
        {
          "output_type": "stream",
          "text": [
            "1729 [0, 18, 10, 25, 41, 8, 28, 27, 2, 3, 4, 6, 15, 37, 17, 31, 7, 5, 26, 12, 11, 13, 19, 14, 16, 36, 35, 20, 33, 34, 9, 23, 40, 24, 21, 39, 22, 38, 29, 30, 32, 1]\n"
          ],
          "name": "stdout"
        },
        {
          "output_type": "execute_result",
          "data": {
            "text/plain": [
              "[0,\n",
              " 18,\n",
              " 10,\n",
              " 25,\n",
              " 41,\n",
              " 8,\n",
              " 28,\n",
              " 27,\n",
              " 2,\n",
              " 3,\n",
              " 4,\n",
              " 6,\n",
              " 15,\n",
              " 37,\n",
              " 17,\n",
              " 31,\n",
              " 7,\n",
              " 5,\n",
              " 26,\n",
              " 12,\n",
              " 11,\n",
              " 13,\n",
              " 19,\n",
              " 14,\n",
              " 16,\n",
              " 36,\n",
              " 35,\n",
              " 20,\n",
              " 33,\n",
              " 34,\n",
              " 9,\n",
              " 23,\n",
              " 40,\n",
              " 24,\n",
              " 21,\n",
              " 39,\n",
              " 22,\n",
              " 38,\n",
              " 29,\n",
              " 30,\n",
              " 32,\n",
              " 1]"
            ]
          },
          "metadata": {
            "tags": []
          },
          "execution_count": 55
        }
      ]
    },
    {
      "cell_type": "code",
      "metadata": {
        "id": "wNqQZ7ND7ZTT",
        "colab_type": "code",
        "colab": {}
      },
      "source": [
        "# Recocido Simulado"
      ],
      "execution_count": 0,
      "outputs": []
    },
    {
      "cell_type": "code",
      "metadata": {
        "id": "ST0Ga-X_7hOv",
        "colab_type": "code",
        "colab": {}
      },
      "source": [
        "def probabilidad(T,d):\n",
        "  r = random.random()\n",
        "  \n",
        "  if r >= (e**(-1*d)/((T * .5*10**(-5)))):\n",
        "    return True\n",
        "  else:\n",
        "    return False"
      ],
      "execution_count": 0,
      "outputs": []
    },
    {
      "cell_type": "code",
      "metadata": {
        "id": "e34rKNQr8xNI",
        "colab_type": "code",
        "colab": {}
      },
      "source": [
        "def bajar_temperatura(T):\n",
        "  return T*0.9"
      ],
      "execution_count": 0,
      "outputs": []
    },
    {
      "cell_type": "code",
      "metadata": {
        "id": "GA7B454v9Hf_",
        "colab_type": "code",
        "colab": {
          "base_uri": "https://localhost:8080/",
          "height": 807
        },
        "outputId": "90abb5d2-f3ea-4405-c1cc-229e2c85a56c"
      },
      "source": [
        "def recocido_simulado(problem, temperatura):\n",
        "  \n",
        "  solucion_referencia = crear_solucion(nodos)\n",
        "  \n",
        "  distancia_referencia = distancia_total(solucion_referencia, problem)\n",
        "  \n",
        "  mejor_solucion = []\n",
        "  mejor_distancia = 10e10\n",
        "  \n",
        "  while temperatura > 1:\n",
        "    vecina = genera_vecina(solucion_referencia, problem)\n",
        "    distancia_vecina = distancia_total(vecina, problem)\n",
        "    \n",
        "    if distancia_vecina < mejor_distancia:\n",
        "      mejor_solucion = vecina\n",
        "      mejor_distancia = distancia_vecina\n",
        "      \n",
        "    if distancia_vecina < distancia_referencia or probabilidad(temperatura, abs(distancia_referencia - distancia_vecina)):\n",
        "      solucion_referencia = vecina\n",
        "      distancia_referencia = distancia_vecina\n",
        "        \n",
        "    temperatura = bajar_temperatura(temperatura)\n",
        "      \n",
        "    print(mejor_distancia, mejor_solucion)\n",
        "    return mejor_solucion\n",
        "      \n",
        "recocido_simulado(problem, 1000)\n",
        "  "
      ],
      "execution_count": 59,
      "outputs": [
        {
          "output_type": "stream",
          "text": [
            "4504 [0, 33, 29, 6, 23, 9, 37, 19, 11, 4, 32, 35, 5, 7, 14, 34, 2, 40, 24, 41, 28, 8, 39, 1, 25, 36, 18, 30, 38, 3, 10, 17, 31, 13, 26, 15, 27, 20, 22, 16, 12, 21]\n"
          ],
          "name": "stdout"
        },
        {
          "output_type": "execute_result",
          "data": {
            "text/plain": [
              "[0,\n",
              " 33,\n",
              " 29,\n",
              " 6,\n",
              " 23,\n",
              " 9,\n",
              " 37,\n",
              " 19,\n",
              " 11,\n",
              " 4,\n",
              " 32,\n",
              " 35,\n",
              " 5,\n",
              " 7,\n",
              " 14,\n",
              " 34,\n",
              " 2,\n",
              " 40,\n",
              " 24,\n",
              " 41,\n",
              " 28,\n",
              " 8,\n",
              " 39,\n",
              " 1,\n",
              " 25,\n",
              " 36,\n",
              " 18,\n",
              " 30,\n",
              " 38,\n",
              " 3,\n",
              " 10,\n",
              " 17,\n",
              " 31,\n",
              " 13,\n",
              " 26,\n",
              " 15,\n",
              " 27,\n",
              " 20,\n",
              " 22,\n",
              " 16,\n",
              " 12,\n",
              " 21]"
            ]
          },
          "metadata": {
            "tags": []
          },
          "execution_count": 59
        }
      ]
    }
  ]
}