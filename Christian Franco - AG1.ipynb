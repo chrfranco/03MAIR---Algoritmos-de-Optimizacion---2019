{
  "nbformat": 4,
  "nbformat_minor": 0,
  "metadata": {
    "colab": {
      "name": "Christian Franco - AG1.ipynb",
      "version": "0.3.2",
      "provenance": [],
      "collapsed_sections": [],
      "include_colab_link": true
    },
    "kernelspec": {
      "name": "python3",
      "display_name": "Python 3"
    }
  },
  "cells": [
    {
      "cell_type": "markdown",
      "metadata": {
        "id": "view-in-github",
        "colab_type": "text"
      },
      "source": [
        "<a href=\"https://colab.research.google.com/github/chrfranco/03MAIR---Algoritmos-de-Optimizacion---2019/blob/master/Christian%20Franco%20-%20AG1.ipynb\" target=\"_parent\"><img src=\"https://colab.research.google.com/assets/colab-badge.svg\" alt=\"Open In Colab\"/></a>"
      ]
    },
    {
      "cell_type": "markdown",
      "metadata": {
        "id": "Zhax1lzvcfqf",
        "colab_type": "text"
      },
      "source": [
        "**Actividad Guiada 1 - AG1**\n",
        "\n",
        "**Christian Franco Sánchez**\n",
        "\n",
        "https://colab.research.google.com/drive/13ftR6J989wzl1H-B6iGjxcgRPDgDpcSs\n",
        "\n",
        "https://github.com/chrfranco/03MAIR---Algoritmos-de-Optimizacion---2019\n",
        "\n",
        "---\n",
        "\n"
      ]
    },
    {
      "cell_type": "code",
      "metadata": {
        "id": "xiz824ljhx0q",
        "colab_type": "code",
        "colab": {}
      },
      "source": [
        "from functools import wraps\n",
        "from time import time\n",
        "\n",
        "def calcular_tiempo(f):\n",
        "    @wraps(f)\n",
        "    def cronometro(*args, **kwargs):\n",
        "        t_inicial = time()\n",
        "        salida = f(*args, **kwargs)\n",
        "        t_final = time()\n",
        "        print('Tiempo transcurrido (en segundos): {}'.format(t_final - t_inicial))\n",
        "        return salida\n",
        "    return cronometro\n",
        "  \n",
        "import random"
      ],
      "execution_count": 0,
      "outputs": []
    },
    {
      "cell_type": "code",
      "metadata": {
        "id": "MbYrLXsyh3kt",
        "colab_type": "code",
        "colab": {
          "base_uri": "https://localhost:8080/",
          "height": 74
        },
        "outputId": "fccda835-de0c-46c4-e4af-db8b43f81809"
      },
      "source": [
        "# Algoritmo Divide y Vencerás Quick Sort\n",
        "\n",
        "A = [9187, 244, 4054, 9222, 8373, 4993, 5265, 5470, 4519, 7182, 2035, 3506, 4337, 7580, 2554, 2824, 8357, 4447, 7379]\n",
        "\n",
        "A = list(map(lambda x: random.randrange(1, 10000), range(1, 600)))\n",
        "\n",
        "def quick_sort(A):\n",
        "  if len(A)==1:\n",
        "    return A\n",
        "  \n",
        "  if len(A)==2:\n",
        "    return [min(A),max(A)]\n",
        "  \n",
        "  pivote = (A[0] + A[1] + A[2])/3\n",
        "  izq = []\n",
        "  der = []\n",
        "  \n",
        "  for n in A:\n",
        "    if n < pivote:\n",
        "      izq.append(n)      \n",
        "    else:\n",
        "      der.append(n)\n",
        "      \n",
        "  return quick_sort(izq) + quick_sort(der)\n",
        "  \n",
        "@calcular_tiempo\n",
        "def ordenar(A):\n",
        "  print(quick_sort(A))\n",
        "  \n",
        "ordenar(A)"
      ],
      "execution_count": 10,
      "outputs": [
        {
          "output_type": "stream",
          "text": [
            "[38, 41, 43, 54, 107, 108, 115, 171, 207, 207, 244, 246, 289, 295, 302, 315, 342, 343, 348, 350, 351, 362, 397, 425, 426, 457, 460, 503, 511, 539, 541, 585, 597, 610, 620, 625, 647, 649, 665, 710, 725, 743, 769, 789, 797, 797, 807, 811, 820, 827, 845, 861, 864, 883, 884, 894, 894, 899, 908, 934, 940, 954, 970, 1014, 1016, 1024, 1045, 1081, 1127, 1151, 1166, 1187, 1215, 1223, 1233, 1253, 1265, 1266, 1277, 1316, 1320, 1327, 1329, 1340, 1356, 1357, 1387, 1396, 1405, 1410, 1424, 1425, 1436, 1455, 1461, 1467, 1537, 1557, 1561, 1562, 1574, 1592, 1640, 1646, 1648, 1701, 1702, 1745, 1797, 1808, 1815, 1823, 1835, 1838, 1840, 1862, 1875, 1887, 1903, 1924, 1951, 1953, 1961, 1976, 1980, 1999, 2012, 2072, 2077, 2080, 2086, 2097, 2109, 2127, 2127, 2130, 2137, 2192, 2216, 2218, 2249, 2302, 2310, 2324, 2340, 2353, 2355, 2359, 2363, 2367, 2375, 2380, 2441, 2482, 2516, 2519, 2525, 2558, 2586, 2614, 2639, 2644, 2648, 2650, 2668, 2678, 2683, 2698, 2719, 2727, 2732, 2751, 2767, 2773, 2776, 2853, 2871, 2885, 2887, 2924, 2931, 2958, 2978, 2983, 2985, 2991, 2998, 3034, 3036, 3038, 3067, 3073, 3097, 3138, 3208, 3256, 3273, 3291, 3318, 3327, 3362, 3375, 3379, 3388, 3406, 3412, 3413, 3433, 3451, 3464, 3489, 3497, 3508, 3511, 3538, 3553, 3556, 3600, 3643, 3644, 3656, 3681, 3685, 3715, 3727, 3737, 3748, 3768, 3784, 3809, 3817, 3826, 3889, 3892, 3923, 3943, 3948, 3953, 3960, 3984, 4018, 4035, 4043, 4063, 4063, 4075, 4100, 4109, 4113, 4125, 4143, 4144, 4164, 4170, 4176, 4219, 4228, 4236, 4261, 4289, 4305, 4324, 4325, 4347, 4353, 4358, 4384, 4384, 4386, 4399, 4408, 4419, 4443, 4465, 4466, 4468, 4496, 4496, 4511, 4540, 4585, 4587, 4592, 4641, 4641, 4645, 4681, 4702, 4704, 4722, 4727, 4758, 4768, 4796, 4827, 4867, 4867, 4879, 4909, 4919, 4926, 4930, 4932, 4948, 4949, 4951, 4974, 4990, 5020, 5033, 5036, 5054, 5079, 5081, 5086, 5086, 5174, 5176, 5185, 5223, 5246, 5269, 5276, 5299, 5308, 5323, 5334, 5376, 5393, 5431, 5444, 5453, 5538, 5572, 5577, 5622, 5623, 5624, 5625, 5649, 5654, 5676, 5721, 5749, 5752, 5757, 5765, 5773, 5804, 5809, 5836, 5840, 5855, 5876, 5880, 5905, 5942, 5960, 5965, 5975, 5986, 6003, 6011, 6026, 6068, 6103, 6116, 6125, 6134, 6156, 6189, 6194, 6208, 6273, 6283, 6298, 6299, 6303, 6309, 6311, 6320, 6320, 6336, 6430, 6435, 6437, 6451, 6463, 6464, 6479, 6486, 6489, 6491, 6511, 6525, 6526, 6567, 6582, 6632, 6642, 6645, 6652, 6654, 6662, 6694, 6694, 6710, 6710, 6774, 6810, 6840, 6844, 6868, 6909, 6912, 6930, 6948, 6949, 6954, 6986, 6999, 7038, 7048, 7065, 7120, 7140, 7149, 7187, 7210, 7212, 7220, 7226, 7234, 7253, 7267, 7267, 7273, 7288, 7322, 7330, 7330, 7336, 7337, 7347, 7353, 7377, 7422, 7429, 7431, 7439, 7468, 7487, 7503, 7518, 7533, 7554, 7560, 7566, 7577, 7602, 7611, 7621, 7663, 7666, 7666, 7698, 7710, 7727, 7753, 7777, 7780, 7809, 7813, 7838, 7839, 7841, 7863, 7867, 7872, 7890, 7890, 7896, 7897, 7913, 7928, 7945, 7995, 8001, 8045, 8046, 8047, 8064, 8083, 8117, 8119, 8133, 8153, 8159, 8161, 8163, 8168, 8186, 8187, 8197, 8220, 8222, 8246, 8277, 8278, 8281, 8289, 8381, 8389, 8415, 8430, 8432, 8432, 8449, 8479, 8487, 8514, 8571, 8581, 8615, 8616, 8634, 8684, 8689, 8691, 8699, 8711, 8735, 8745, 8760, 8785, 8816, 8849, 8854, 8857, 8862, 8864, 8892, 8935, 8994, 8995, 9025, 9036, 9067, 9099, 9135, 9163, 9189, 9201, 9209, 9233, 9236, 9255, 9287, 9315, 9371, 9372, 9384, 9390, 9429, 9431, 9438, 9451, 9467, 9470, 9483, 9490, 9512, 9518, 9529, 9559, 9565, 9573, 9580, 9594, 9603, 9608, 9610, 9655, 9669, 9673, 9727, 9733, 9757, 9778, 9819, 9868, 9893, 9905, 9909, 9919, 9925, 9976, 9991, 9994]\n",
            "Tiempo transcurrido (en segundos): 0.0031249523162841797\n"
          ],
          "name": "stdout"
        }
      ]
    },
    {
      "cell_type": "code",
      "metadata": {
        "id": "r7YoqoJdrmlg",
        "colab_type": "code",
        "colab": {
          "base_uri": "https://localhost:8080/",
          "height": 54
        },
        "outputId": "ab2f8cdf-2c84-46fd-aae1-600b5a9340a6"
      },
      "source": [
        "# Algoritmo Voraz para la Devolución del Cambio\n",
        "\n",
        "sistema = [25, 10, 5, 1]\n",
        "\n",
        "@calcular_tiempo\n",
        "def cambio_monedas(cantidad, sistema):\n",
        "  solucion = [0 for i in range(len(sistema)) ]\n",
        "  \n",
        "  valor_acumulado = 0\n",
        "  \n",
        "  for i in range(len(sistema)):\n",
        "    monedas = (cantidad - valor_acumulado)//sistema[i]\n",
        "    solucion[i] = monedas\n",
        "    valor_acumulado = valor_acumulado + monedas*sistema[i]\n",
        "    \n",
        "    if valor_acumulado == cantidad:\n",
        "      return solucion\n",
        "    \n",
        "print(cambio_monedas(123, sistema))"
      ],
      "execution_count": 14,
      "outputs": [
        {
          "output_type": "stream",
          "text": [
            "Tiempo transcurrido (en segundos): 6.198883056640625e-06\n",
            "[4, 2, 0, 3]\n"
          ],
          "name": "stdout"
        }
      ]
    },
    {
      "cell_type": "code",
      "metadata": {
        "id": "pBpCbDQBvm5b",
        "colab_type": "code",
        "colab": {
          "base_uri": "https://localhost:8080/",
          "height": 35
        },
        "outputId": "79814b46-b0b2-4950-eff9-ba613e5d4075"
      },
      "source": [
        "# Algoritmo con Vuelta Atrás para resolver Problema de las N-Reinas\n",
        "\n",
        "def es_prometedora(solucion, etapa):\n",
        "  for i in range(etapa+1):\n",
        "    if solucion.count(solucion[i])>1:\n",
        "      return False\n",
        "    \n",
        "    for j in range(i+1, etapa+1):\n",
        "      if abs(i-j) == abs(solucion[i]-solucion[j]):\n",
        "        return False\n",
        "      \n",
        "  return True\n",
        "\n",
        "def reinas(N, solucion=[], etapa=0):\n",
        "  \n",
        "  if len(solucion) == 0:\n",
        "    solucion=[0 for i in range(N)]\n",
        "      \n",
        "  for i in range(1, N+1):\n",
        "    solucion[etapa] = i\n",
        "    \n",
        "    if es_prometedora(solucion, etapa):\n",
        "      if etapa == N-1:\n",
        "        print(\"La Solución es\", solucion)\n",
        "      else:\n",
        "        reinas(N, solucion, etapa+1)\n",
        "      \n",
        "    else:\n",
        "      None\n",
        "      \n",
        "reinas(4)\n",
        "      \n",
        "    \n",
        "  "
      ],
      "execution_count": 17,
      "outputs": [
        {
          "output_type": "stream",
          "text": [
            "La Solución es [3, 1, 4, 2]\n"
          ],
          "name": "stdout"
        }
      ]
    }
  ]
}