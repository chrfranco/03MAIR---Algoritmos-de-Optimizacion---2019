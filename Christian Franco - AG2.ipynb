{
  "nbformat": 4,
  "nbformat_minor": 0,
  "metadata": {
    "colab": {
      "name": "Christian Franco - AG2.ipynb",
      "version": "0.3.2",
      "provenance": [],
      "collapsed_sections": [],
      "include_colab_link": true
    },
    "kernelspec": {
      "name": "python3",
      "display_name": "Python 3"
    }
  },
  "cells": [
    {
      "cell_type": "markdown",
      "metadata": {
        "id": "view-in-github",
        "colab_type": "text"
      },
      "source": [
        "<a href=\"https://colab.research.google.com/github/chrfranco/03MAIR---Algoritmos-de-Optimizacion---2019/blob/master/Christian%20Franco%20-%20AG2.ipynb\" target=\"_parent\"><img src=\"https://colab.research.google.com/assets/colab-badge.svg\" alt=\"Open In Colab\"/></a>"
      ]
    },
    {
      "cell_type": "markdown",
      "metadata": {
        "id": "AqNj-JiJavpY",
        "colab_type": "text"
      },
      "source": [
        "**Actividad Guiada 2 - AG2**\n",
        "\n",
        "**Christian Franco Sánchez**\n",
        "\n",
        "https://colab.research.google.com/drive/1XCoZ4D1ZTIBerPqAbf1VvhqBpcD9hg60\n",
        "\n",
        "https://github.com/chrfranco/03MAIR---Algoritmos-de-Optimizacion---2019"
      ]
    },
    {
      "cell_type": "code",
      "metadata": {
        "id": "hDeLJfskfpXJ",
        "colab_type": "code",
        "colab": {}
      },
      "source": [
        "# Ruta por el Río. Programación Dinámica"
      ],
      "execution_count": 0,
      "outputs": []
    },
    {
      "cell_type": "code",
      "metadata": {
        "id": "HTc5OuGtsiP1",
        "colab_type": "code",
        "colab": {}
      },
      "source": [
        ""
      ],
      "execution_count": 0,
      "outputs": []
    },
    {
      "cell_type": "code",
      "metadata": {
        "id": "cp0S4Pq8bJFp",
        "colab_type": "code",
        "colab": {}
      },
      "source": [
        "TARIFAS = [\n",
        "[0,5,4,3,999,999,999],\n",
        "[999,0,999,2,3,999,11],\n",
        "[999,999, 0,1,999,4,10],\n",
        "[999,999,999, 0,5,6,9],\n",
        "[999,999, 999,999,0,999,4],\n",
        "[999,999, 999,999,999,0,3],\n",
        "[999,999,999,999,999,999,0]\n",
        "]"
      ],
      "execution_count": 0,
      "outputs": []
    },
    {
      "cell_type": "code",
      "metadata": {
        "id": "X3S-8ZyMf_1a",
        "colab_type": "code",
        "colab": {
          "base_uri": "https://localhost:8080/",
          "height": 92
        },
        "outputId": "e4f9cdd8-79a9-435a-cf2f-d0b5fe0c45f5"
      },
      "source": [
        "def precios(TARIFAS):\n",
        "  N=len(TARIFAS[0])\n",
        "  precios = [ [9999]*N for i in[9999]*N]\n",
        "  ruta = [ [\"\"]*N for i in [\"\"]*N]\n",
        "  \n",
        "  for i in range(N-1):\n",
        "    for j in range(i+1,N):\n",
        "      min = TARIFAS[i][j]\n",
        "      ruta[i][j] = i\n",
        "      \n",
        "      for k in range(i,j):\n",
        "        if precios[i][k] + TARIFAS[k][j] < min:\n",
        "          min = precios[i][k] + TARIFAS[k][j]\n",
        "          ruta[i][j] = k\n",
        "          \n",
        "      precios[i][j] = min\n",
        "      \n",
        "  return precios, ruta\n",
        "\n",
        "precios, ruta = precios(TARIFAS)\n",
        "\n",
        "print(precios)\n",
        "print(ruta)\n",
        "\n",
        "def calcular_ruta(ruta, desde, hasta):\n",
        "  if desde == hasta:\n",
        "    return desde\n",
        "  else:\n",
        "    return str(calcular_ruta(ruta, desde, ruta[desde][hasta])) + ' - ' + str(ruta[desde][hasta])\n",
        "               \n",
        "calcular_ruta(ruta, 0, 6)"
      ],
      "execution_count": 12,
      "outputs": [
        {
          "output_type": "stream",
          "text": [
            "[[9999, 5, 4, 3, 8, 8, 11], [9999, 9999, 999, 2, 3, 8, 7], [9999, 9999, 9999, 1, 6, 4, 7], [9999, 9999, 9999, 9999, 5, 6, 9], [9999, 9999, 9999, 9999, 9999, 999, 4], [9999, 9999, 9999, 9999, 9999, 9999, 3], [9999, 9999, 9999, 9999, 9999, 9999, 9999]]\n",
            "[['', 0, 0, 0, 1, 2, 5], ['', '', 1, 1, 1, 3, 4], ['', '', '', 2, 3, 2, 5], ['', '', '', '', 3, 3, 3], ['', '', '', '', '', 4, 4], ['', '', '', '', '', '', 5], ['', '', '', '', '', '', '']]\n"
          ],
          "name": "stdout"
        },
        {
          "output_type": "execute_result",
          "data": {
            "text/plain": [
              "'0 - 0 - 2 - 5'"
            ]
          },
          "metadata": {
            "tags": []
          },
          "execution_count": 12
        }
      ]
    },
    {
      "cell_type": "code",
      "metadata": {
        "id": "rOQ9DcqUqbol",
        "colab_type": "code",
        "colab": {}
      },
      "source": [
        "# Asignación de Tareas. Técnica de Ramificación y Poda"
      ],
      "execution_count": 0,
      "outputs": []
    },
    {
      "cell_type": "code",
      "metadata": {
        "id": "ckIGeKFasng1",
        "colab_type": "code",
        "colab": {}
      },
      "source": [
        "import itertools\n",
        "from functools import wraps\n",
        "from time import time\n",
        "\n",
        "def calcular_tiempo(f):\n",
        "    @wraps(f)\n",
        "    def cronometro(*args, **kwargs):\n",
        "        t_inicial = time()\n",
        "        salida = f(*args, **kwargs)\n",
        "        t_final = time()\n",
        "        print('Tiempo transcurrido (en segundos): {}'.format(t_final - t_inicial))\n",
        "        return salida\n",
        "    return cronometro"
      ],
      "execution_count": 0,
      "outputs": []
    },
    {
      "cell_type": "code",
      "metadata": {
        "id": "cEteIZB0snlr",
        "colab_type": "code",
        "colab": {}
      },
      "source": [
        "COSTES=[[11,12,18,40],\n",
        "        [14,15,13,22],\n",
        "        [11,17,19,23],\n",
        "        [17,14,20,28]]"
      ],
      "execution_count": 0,
      "outputs": []
    },
    {
      "cell_type": "code",
      "metadata": {
        "id": "wpSD3Sj6uCVX",
        "colab_type": "code",
        "colab": {
          "base_uri": "https://localhost:8080/",
          "height": 35
        },
        "outputId": "64e296de-9e57-4000-ac89-e08489aa80be"
      },
      "source": [
        "def valor(s, COSTES):\n",
        "  valor = 0\n",
        "  for i in range(len(s)):\n",
        "    valor = valor + COSTES[s[i]][i]\n",
        "  \n",
        "  return valor\n",
        "\n",
        "valor((1,0,3,2), COSTES)\n",
        "                               "
      ],
      "execution_count": 55,
      "outputs": [
        {
          "output_type": "execute_result",
          "data": {
            "text/plain": [
              "69"
            ]
          },
          "metadata": {
            "tags": []
          },
          "execution_count": 55
        }
      ]
    },
    {
      "cell_type": "code",
      "metadata": {
        "id": "BlGUL9ddxEX3",
        "colab_type": "code",
        "colab": {
          "base_uri": "https://localhost:8080/",
          "height": 54
        },
        "outputId": "6f0db08a-2f51-411b-81de-af204a9dea7d"
      },
      "source": [
        "@calcular_tiempo\n",
        "def fuerza_bruta(COSTES):\n",
        "  mejor_valor = 10e10\n",
        "  mejor_solucion = ''\n",
        "  \n",
        "  for s in list(itertools.permutations(range(len(COSTES)))):\n",
        "    valor_tmp = valor(s, COSTES)\n",
        "    if valor_tmp < mejor_valor:\n",
        "      mejor_solucion = s\n",
        "      mejor_valor = valor_tmp\n",
        "      \n",
        "  print(\"La mejor solución es:\", mejor_solucion)\n",
        "\n",
        "fuerza_bruta(COSTES)"
      ],
      "execution_count": 56,
      "outputs": [
        {
          "output_type": "stream",
          "text": [
            "La mejor solución es: (0, 3, 1, 2)\n",
            "Tiempo transcurrido (en segundos): 0.001963376998901367\n"
          ],
          "name": "stdout"
        }
      ]
    },
    {
      "cell_type": "code",
      "metadata": {
        "id": "BFLQcp3W3cIL",
        "colab_type": "code",
        "colab": {
          "base_uri": "https://localhost:8080/",
          "height": 35
        },
        "outputId": "779da80f-5917-4698-8ca8-891f732558bf"
      },
      "source": [
        "def CI(s, COSTES):\n",
        "  valor = 0\n",
        "  \n",
        "  for i in range(len(s)):\n",
        "    valor += COSTES[i][s[i]]\n",
        "  \n",
        "  # Estimaciones\n",
        "  for i in range(len(COSTES)):\n",
        "    if i not in s:\n",
        "      valor += min([ COSTES[j][i] for j in range(len(s), len(COSTES) ) ])\n",
        "  \n",
        "  return valor\n",
        "\n",
        "def crear_hijos(nodo, N):\n",
        "  hijos = []\n",
        "  for i in range(N):\n",
        "    if i not in nodo:\n",
        "      hijos.append({'s':nodo+(i,)})\n",
        "      \n",
        "  return hijos\n",
        "\n",
        "crear_hijos((0,2), 4)"
      ],
      "execution_count": 62,
      "outputs": [
        {
          "output_type": "execute_result",
          "data": {
            "text/plain": [
              "[{'s': (0, 2, 1)}, {'s': (0, 2, 3)}]"
            ]
          },
          "metadata": {
            "tags": []
          },
          "execution_count": 62
        }
      ]
    },
    {
      "cell_type": "code",
      "metadata": {
        "id": "39FqiC5mIsIJ",
        "colab_type": "code",
        "colab": {
          "base_uri": "https://localhost:8080/",
          "height": 827
        },
        "outputId": "365d8813-6cfb-4523-c94c-94d8a763cbdf"
      },
      "source": [
        "def ramificacion_y_poda(COSTES):\n",
        "  dimension = len(COSTES)\n",
        "  mejor_solucion = tuple(i for i in range(dimension))\n",
        "  \n",
        "  cotasup = valor(mejor_solucion, COSTES)\n",
        "  \n",
        "  nodos = []\n",
        "  nodos.append({'s':(), 'ci':CI((), COSTES)})\n",
        "  \n",
        "  iteracion = 0\n",
        "  \n",
        "  while (len(nodos) > 0):\n",
        "    iteracion += 1\n",
        "    print('\\n#', iteracion)\n",
        "    nodo_prometedor = min(nodos, key=lambda x:x['ci'])\n",
        "    \n",
        "    # Hijos\n",
        "    hijos = [{'s':x['s'], 'ci':CI(x['s'], COSTES)} for x in crear_hijos(nodo_prometedor['s'], dimension)]\n",
        "    \n",
        "    nodo_final = [x for x in hijos if len(x['s']) == dimension]\n",
        "    if len(nodo_final) > 0:\n",
        "      if nodo_final[0]['ci'] < cotasup:\n",
        "        cotasup = nodo_final[0]['ci']\n",
        "        mejor_solucion = nodo_final[0]\n",
        "        \n",
        "    # Poda\n",
        "    hijos = [x for x in hijos if x['ci'] < cotasup]\n",
        "    \n",
        "    # Eliminamos el nodo expandido\n",
        "    nodos = [x for x in nodos if x['s'] != nodo_prometedor['s']]\n",
        "    \n",
        "    # Añadimos los hijos\n",
        "    nodos.extend(hijos)\n",
        "    \n",
        "    print(nodos)\n",
        "    \n",
        "  print(\"La mejor solución es:\", mejor_solucion)\n",
        "  \n",
        "ramificacion_y_poda(COSTES)"
      ],
      "execution_count": 94,
      "outputs": [
        {
          "output_type": "stream",
          "text": [
            "\n",
            "# 1\n",
            "[{'s': (0,), 'ci': 60}, {'s': (1,), 'ci': 58}, {'s': (2,), 'ci': 65}]\n",
            "\n",
            "# 2\n",
            "[{'s': (0,), 'ci': 60}, {'s': (2,), 'ci': 65}, {'s': (1, 0), 'ci': 68}, {'s': (1, 2), 'ci': 59}, {'s': (1, 3), 'ci': 64}]\n",
            "\n",
            "# 3\n",
            "[{'s': (0,), 'ci': 60}, {'s': (2,), 'ci': 65}, {'s': (1, 0), 'ci': 68}, {'s': (1, 3), 'ci': 64}, {'s': (1, 2, 0), 'ci': 64}, {'s': (1, 2, 3), 'ci': 65}]\n",
            "\n",
            "# 4\n",
            "[{'s': (2,), 'ci': 65}, {'s': (1, 0), 'ci': 68}, {'s': (1, 3), 'ci': 64}, {'s': (1, 2, 0), 'ci': 64}, {'s': (1, 2, 3), 'ci': 65}, {'s': (0, 1), 'ci': 68}, {'s': (0, 2), 'ci': 61}, {'s': (0, 3), 'ci': 66}]\n",
            "\n",
            "# 5\n",
            "[{'s': (2,), 'ci': 65}, {'s': (1, 0), 'ci': 68}, {'s': (1, 3), 'ci': 64}, {'s': (1, 2, 0), 'ci': 64}, {'s': (1, 2, 3), 'ci': 65}, {'s': (0, 1), 'ci': 68}, {'s': (0, 3), 'ci': 66}, {'s': (0, 2, 1), 'ci': 69}, {'s': (0, 2, 3), 'ci': 61}]\n",
            "\n",
            "# 6\n",
            "[{'s': (2,), 'ci': 65}, {'s': (1, 0), 'ci': 68}, {'s': (1, 3), 'ci': 64}, {'s': (1, 2, 0), 'ci': 64}, {'s': (1, 2, 3), 'ci': 65}, {'s': (0, 1), 'ci': 68}, {'s': (0, 3), 'ci': 66}, {'s': (0, 2, 1), 'ci': 69}]\n",
            "\n",
            "# 7\n",
            "[{'s': (2,), 'ci': 65}, {'s': (1, 0), 'ci': 68}, {'s': (1, 2, 0), 'ci': 64}, {'s': (1, 2, 3), 'ci': 65}, {'s': (0, 1), 'ci': 68}, {'s': (0, 3), 'ci': 66}, {'s': (0, 2, 1), 'ci': 69}]\n",
            "\n",
            "# 8\n",
            "[{'s': (2,), 'ci': 65}, {'s': (1, 0), 'ci': 68}, {'s': (1, 2, 3), 'ci': 65}, {'s': (0, 1), 'ci': 68}, {'s': (0, 3), 'ci': 66}, {'s': (0, 2, 1), 'ci': 69}]\n",
            "\n",
            "# 9\n",
            "[{'s': (1, 0), 'ci': 68}, {'s': (1, 2, 3), 'ci': 65}, {'s': (0, 1), 'ci': 68}, {'s': (0, 3), 'ci': 66}, {'s': (0, 2, 1), 'ci': 69}]\n",
            "\n",
            "# 10\n",
            "[{'s': (1, 0), 'ci': 68}, {'s': (0, 1), 'ci': 68}, {'s': (0, 3), 'ci': 66}, {'s': (0, 2, 1), 'ci': 69}]\n",
            "\n",
            "# 11\n",
            "[{'s': (1, 0), 'ci': 68}, {'s': (0, 1), 'ci': 68}, {'s': (0, 2, 1), 'ci': 69}]\n",
            "\n",
            "# 12\n",
            "[{'s': (0, 1), 'ci': 68}, {'s': (0, 2, 1), 'ci': 69}]\n",
            "\n",
            "# 13\n",
            "[{'s': (0, 2, 1), 'ci': 69}]\n",
            "\n",
            "# 14\n",
            "[]\n",
            "La mejor solución es: {'s': (0, 2, 3, 1), 'ci': 61}\n"
          ],
          "name": "stdout"
        }
      ]
    },
    {
      "cell_type": "code",
      "metadata": {
        "id": "TxcMteAyyXA8",
        "colab_type": "code",
        "colab": {
          "base_uri": "https://localhost:8080/",
          "height": 458
        },
        "outputId": "cd251468-6775-4d41-fb3f-89a2aa3f6e69"
      },
      "source": [
        "list(itertools.permutations(range(len(COSTES))))"
      ],
      "execution_count": 25,
      "outputs": [
        {
          "output_type": "execute_result",
          "data": {
            "text/plain": [
              "[(0, 1, 2, 3),\n",
              " (0, 1, 3, 2),\n",
              " (0, 2, 1, 3),\n",
              " (0, 2, 3, 1),\n",
              " (0, 3, 1, 2),\n",
              " (0, 3, 2, 1),\n",
              " (1, 0, 2, 3),\n",
              " (1, 0, 3, 2),\n",
              " (1, 2, 0, 3),\n",
              " (1, 2, 3, 0),\n",
              " (1, 3, 0, 2),\n",
              " (1, 3, 2, 0),\n",
              " (2, 0, 1, 3),\n",
              " (2, 0, 3, 1),\n",
              " (2, 1, 0, 3),\n",
              " (2, 1, 3, 0),\n",
              " (2, 3, 0, 1),\n",
              " (2, 3, 1, 0),\n",
              " (3, 0, 1, 2),\n",
              " (3, 0, 2, 1),\n",
              " (3, 1, 0, 2),\n",
              " (3, 1, 2, 0),\n",
              " (3, 2, 0, 1),\n",
              " (3, 2, 1, 0)]"
            ]
          },
          "metadata": {
            "tags": []
          },
          "execution_count": 25
        }
      ]
    }
  ]
}